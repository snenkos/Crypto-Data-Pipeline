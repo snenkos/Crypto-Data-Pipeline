{
 "cells": [
  {
   "cell_type": "code",
   "execution_count": 1,
   "id": "288324b6",
   "metadata": {},
   "outputs": [
    {
     "name": "stdout",
     "output_type": "stream",
     "text": [
      "✅ Data fetched successfully!\n"
     ]
    },
    {
     "data": {
      "text/html": [
       "<div>\n",
       "<style scoped>\n",
       "    .dataframe tbody tr th:only-of-type {\n",
       "        vertical-align: middle;\n",
       "    }\n",
       "\n",
       "    .dataframe tbody tr th {\n",
       "        vertical-align: top;\n",
       "    }\n",
       "\n",
       "    .dataframe thead th {\n",
       "        text-align: right;\n",
       "    }\n",
       "</style>\n",
       "<table border=\"1\" class=\"dataframe\">\n",
       "  <thead>\n",
       "    <tr style=\"text-align: right;\">\n",
       "      <th></th>\n",
       "      <th>id</th>\n",
       "      <th>symbol</th>\n",
       "      <th>name</th>\n",
       "      <th>current_price</th>\n",
       "      <th>market_cap</th>\n",
       "    </tr>\n",
       "  </thead>\n",
       "  <tbody>\n",
       "    <tr>\n",
       "      <th>0</th>\n",
       "      <td>bitcoin</td>\n",
       "      <td>btc</td>\n",
       "      <td>Bitcoin</td>\n",
       "      <td>83472.000000</td>\n",
       "      <td>1657108056266</td>\n",
       "    </tr>\n",
       "    <tr>\n",
       "      <th>1</th>\n",
       "      <td>ethereum</td>\n",
       "      <td>eth</td>\n",
       "      <td>Ethereum</td>\n",
       "      <td>1594.660000</td>\n",
       "      <td>192473334452</td>\n",
       "    </tr>\n",
       "    <tr>\n",
       "      <th>2</th>\n",
       "      <td>tether</td>\n",
       "      <td>usdt</td>\n",
       "      <td>Tether</td>\n",
       "      <td>0.999613</td>\n",
       "      <td>144285682969</td>\n",
       "    </tr>\n",
       "    <tr>\n",
       "      <th>3</th>\n",
       "      <td>ripple</td>\n",
       "      <td>xrp</td>\n",
       "      <td>XRP</td>\n",
       "      <td>2.060000</td>\n",
       "      <td>120142589065</td>\n",
       "    </tr>\n",
       "    <tr>\n",
       "      <th>4</th>\n",
       "      <td>binancecoin</td>\n",
       "      <td>bnb</td>\n",
       "      <td>BNB</td>\n",
       "      <td>590.030000</td>\n",
       "      <td>86064151362</td>\n",
       "    </tr>\n",
       "    <tr>\n",
       "      <th>5</th>\n",
       "      <td>solana</td>\n",
       "      <td>sol</td>\n",
       "      <td>Solana</td>\n",
       "      <td>124.660000</td>\n",
       "      <td>64307722695</td>\n",
       "    </tr>\n",
       "    <tr>\n",
       "      <th>6</th>\n",
       "      <td>usd-coin</td>\n",
       "      <td>usdc</td>\n",
       "      <td>USDC</td>\n",
       "      <td>0.999899</td>\n",
       "      <td>60074481105</td>\n",
       "    </tr>\n",
       "    <tr>\n",
       "      <th>7</th>\n",
       "      <td>dogecoin</td>\n",
       "      <td>doge</td>\n",
       "      <td>Dogecoin</td>\n",
       "      <td>0.162081</td>\n",
       "      <td>24122669080</td>\n",
       "    </tr>\n",
       "    <tr>\n",
       "      <th>8</th>\n",
       "      <td>tron</td>\n",
       "      <td>trx</td>\n",
       "      <td>TRON</td>\n",
       "      <td>0.249369</td>\n",
       "      <td>23666400796</td>\n",
       "    </tr>\n",
       "    <tr>\n",
       "      <th>9</th>\n",
       "      <td>cardano</td>\n",
       "      <td>ada</td>\n",
       "      <td>Cardano</td>\n",
       "      <td>0.638064</td>\n",
       "      <td>22989614673</td>\n",
       "    </tr>\n",
       "  </tbody>\n",
       "</table>\n",
       "</div>"
      ],
      "text/plain": [
       "            id symbol      name  current_price     market_cap\n",
       "0      bitcoin    btc   Bitcoin   83472.000000  1657108056266\n",
       "1     ethereum    eth  Ethereum    1594.660000   192473334452\n",
       "2       tether   usdt    Tether       0.999613   144285682969\n",
       "3       ripple    xrp       XRP       2.060000   120142589065\n",
       "4  binancecoin    bnb       BNB     590.030000    86064151362\n",
       "5       solana    sol    Solana     124.660000    64307722695\n",
       "6     usd-coin   usdc      USDC       0.999899    60074481105\n",
       "7     dogecoin   doge  Dogecoin       0.162081    24122669080\n",
       "8         tron    trx      TRON       0.249369    23666400796\n",
       "9      cardano    ada   Cardano       0.638064    22989614673"
      ]
     },
     "metadata": {},
     "output_type": "display_data"
    }
   ],
   "source": [
    "import requests\n",
    "import pandas as pd\n",
    "\n",
    "# API endpoint for top 10 cryptocurrencies\n",
    "url = \"https://api.coingecko.com/api/v3/coins/markets\"\n",
    "params = {\n",
    "    'vs_currency': 'usd',\n",
    "    'order': 'market_cap_desc',\n",
    "    'per_page': 10,\n",
    "    'page': 1,\n",
    "    'sparkline': False\n",
    "}\n",
    "\n",
    "# Request data from API\n",
    "response = requests.get(url, params=params)\n",
    "\n",
    "# Check if request was successful\n",
    "if response.status_code == 200:\n",
    "    data = response.json()\n",
    "    df = pd.DataFrame(data)[['id', 'symbol', 'name', 'current_price', 'market_cap']]\n",
    "    print(\"✅ Data fetched successfully!\")\n",
    "    display(df)\n",
    "else:\n",
    "    print(\"❌ Failed to fetch data. Status code:\", response.status_code)\n"
   ]
  },
  {
   "cell_type": "code",
   "execution_count": 2,
   "id": "a04c7a9e",
   "metadata": {},
   "outputs": [
    {
     "name": "stdout",
     "output_type": "stream",
     "text": [
      "✅ Data inserted into crypto_data.db\n"
     ]
    }
   ],
   "source": [
    "import sqlite3\n",
    "\n",
    "# Step 1: Connect to a database (creates it if it doesn't exist)\n",
    "conn = sqlite3.connect(\"crypto_data.db\")\n",
    "cursor = conn.cursor()\n",
    "\n",
    "# Step 2: Create a table (if not already created)\n",
    "cursor.execute('''\n",
    "CREATE TABLE IF NOT EXISTS crypto_prices (\n",
    "    id TEXT PRIMARY KEY,\n",
    "    symbol TEXT,\n",
    "    name TEXT,\n",
    "    current_price REAL,\n",
    "    market_cap INTEGER\n",
    ")\n",
    "''')\n",
    "\n",
    "# Step 3: Insert or update the data\n",
    "for _, row in df.iterrows():\n",
    "    cursor.execute('''\n",
    "    INSERT OR REPLACE INTO crypto_prices (id, symbol, name, current_price, market_cap)\n",
    "    VALUES (?, ?, ?, ?, ?)\n",
    "    ''', (row['id'], row['symbol'], row['name'], row['current_price'], row['market_cap']))\n",
    "\n",
    "# Step 4: Commit changes and close connection\n",
    "conn.commit()\n",
    "conn.close()\n",
    "\n",
    "print(\"✅ Data inserted into crypto_data.db\")\n"
   ]
  },
  {
   "cell_type": "code",
   "execution_count": 3,
   "id": "28146b0b",
   "metadata": {},
   "outputs": [
    {
     "data": {
      "text/html": [
       "<div>\n",
       "<style scoped>\n",
       "    .dataframe tbody tr th:only-of-type {\n",
       "        vertical-align: middle;\n",
       "    }\n",
       "\n",
       "    .dataframe tbody tr th {\n",
       "        vertical-align: top;\n",
       "    }\n",
       "\n",
       "    .dataframe thead th {\n",
       "        text-align: right;\n",
       "    }\n",
       "</style>\n",
       "<table border=\"1\" class=\"dataframe\">\n",
       "  <thead>\n",
       "    <tr style=\"text-align: right;\">\n",
       "      <th></th>\n",
       "      <th>id</th>\n",
       "      <th>symbol</th>\n",
       "      <th>name</th>\n",
       "      <th>current_price</th>\n",
       "      <th>market_cap</th>\n",
       "    </tr>\n",
       "  </thead>\n",
       "  <tbody>\n",
       "    <tr>\n",
       "      <th>0</th>\n",
       "      <td>bitcoin</td>\n",
       "      <td>btc</td>\n",
       "      <td>Bitcoin</td>\n",
       "      <td>83472.000000</td>\n",
       "      <td>1657108056266</td>\n",
       "    </tr>\n",
       "    <tr>\n",
       "      <th>1</th>\n",
       "      <td>ethereum</td>\n",
       "      <td>eth</td>\n",
       "      <td>Ethereum</td>\n",
       "      <td>1594.660000</td>\n",
       "      <td>192473334452</td>\n",
       "    </tr>\n",
       "    <tr>\n",
       "      <th>2</th>\n",
       "      <td>tether</td>\n",
       "      <td>usdt</td>\n",
       "      <td>Tether</td>\n",
       "      <td>0.999613</td>\n",
       "      <td>144285682969</td>\n",
       "    </tr>\n",
       "    <tr>\n",
       "      <th>3</th>\n",
       "      <td>ripple</td>\n",
       "      <td>xrp</td>\n",
       "      <td>XRP</td>\n",
       "      <td>2.060000</td>\n",
       "      <td>120142589065</td>\n",
       "    </tr>\n",
       "    <tr>\n",
       "      <th>4</th>\n",
       "      <td>binancecoin</td>\n",
       "      <td>bnb</td>\n",
       "      <td>BNB</td>\n",
       "      <td>590.030000</td>\n",
       "      <td>86064151362</td>\n",
       "    </tr>\n",
       "    <tr>\n",
       "      <th>5</th>\n",
       "      <td>solana</td>\n",
       "      <td>sol</td>\n",
       "      <td>Solana</td>\n",
       "      <td>124.660000</td>\n",
       "      <td>64307722695</td>\n",
       "    </tr>\n",
       "    <tr>\n",
       "      <th>6</th>\n",
       "      <td>usd-coin</td>\n",
       "      <td>usdc</td>\n",
       "      <td>USDC</td>\n",
       "      <td>0.999899</td>\n",
       "      <td>60074481105</td>\n",
       "    </tr>\n",
       "    <tr>\n",
       "      <th>7</th>\n",
       "      <td>dogecoin</td>\n",
       "      <td>doge</td>\n",
       "      <td>Dogecoin</td>\n",
       "      <td>0.162081</td>\n",
       "      <td>24122669080</td>\n",
       "    </tr>\n",
       "    <tr>\n",
       "      <th>8</th>\n",
       "      <td>tron</td>\n",
       "      <td>trx</td>\n",
       "      <td>TRON</td>\n",
       "      <td>0.249369</td>\n",
       "      <td>23666400796</td>\n",
       "    </tr>\n",
       "    <tr>\n",
       "      <th>9</th>\n",
       "      <td>cardano</td>\n",
       "      <td>ada</td>\n",
       "      <td>Cardano</td>\n",
       "      <td>0.638064</td>\n",
       "      <td>22989614673</td>\n",
       "    </tr>\n",
       "  </tbody>\n",
       "</table>\n",
       "</div>"
      ],
      "text/plain": [
       "            id symbol      name  current_price     market_cap\n",
       "0      bitcoin    btc   Bitcoin   83472.000000  1657108056266\n",
       "1     ethereum    eth  Ethereum    1594.660000   192473334452\n",
       "2       tether   usdt    Tether       0.999613   144285682969\n",
       "3       ripple    xrp       XRP       2.060000   120142589065\n",
       "4  binancecoin    bnb       BNB     590.030000    86064151362\n",
       "5       solana    sol    Solana     124.660000    64307722695\n",
       "6     usd-coin   usdc      USDC       0.999899    60074481105\n",
       "7     dogecoin   doge  Dogecoin       0.162081    24122669080\n",
       "8         tron    trx      TRON       0.249369    23666400796\n",
       "9      cardano    ada   Cardano       0.638064    22989614673"
      ]
     },
     "execution_count": 3,
     "metadata": {},
     "output_type": "execute_result"
    }
   ],
   "source": [
    "# Reconnect to the database\n",
    "conn = sqlite3.connect(\"crypto_data.db\")\n",
    "\n",
    "# Read the data into a DataFrame\n",
    "df_sql = pd.read_sql_query(\"SELECT * FROM crypto_prices\", conn)\n",
    "\n",
    "# Close the connection\n",
    "conn.close()\n",
    "\n",
    "# Show the results\n",
    "df_sql\n"
   ]
  },
  {
   "cell_type": "code",
   "execution_count": 5,
   "id": "76355600",
   "metadata": {},
   "outputs": [
    {
     "data": {
      "text/html": [
       "<div>\n",
       "<style scoped>\n",
       "    .dataframe tbody tr th:only-of-type {\n",
       "        vertical-align: middle;\n",
       "    }\n",
       "\n",
       "    .dataframe tbody tr th {\n",
       "        vertical-align: top;\n",
       "    }\n",
       "\n",
       "    .dataframe thead th {\n",
       "        text-align: right;\n",
       "    }\n",
       "</style>\n",
       "<table border=\"1\" class=\"dataframe\">\n",
       "  <thead>\n",
       "    <tr style=\"text-align: right;\">\n",
       "      <th></th>\n",
       "      <th>id</th>\n",
       "      <th>symbol</th>\n",
       "      <th>name</th>\n",
       "      <th>current_price</th>\n",
       "      <th>market_cap</th>\n",
       "    </tr>\n",
       "  </thead>\n",
       "  <tbody>\n",
       "    <tr>\n",
       "      <th>0</th>\n",
       "      <td>bitcoin</td>\n",
       "      <td>btc</td>\n",
       "      <td>Bitcoin</td>\n",
       "      <td>83472.000000</td>\n",
       "      <td>1657108056266</td>\n",
       "    </tr>\n",
       "    <tr>\n",
       "      <th>1</th>\n",
       "      <td>ethereum</td>\n",
       "      <td>eth</td>\n",
       "      <td>Ethereum</td>\n",
       "      <td>1594.660000</td>\n",
       "      <td>192473334452</td>\n",
       "    </tr>\n",
       "    <tr>\n",
       "      <th>2</th>\n",
       "      <td>tether</td>\n",
       "      <td>usdt</td>\n",
       "      <td>Tether</td>\n",
       "      <td>0.999613</td>\n",
       "      <td>144285682969</td>\n",
       "    </tr>\n",
       "    <tr>\n",
       "      <th>3</th>\n",
       "      <td>ripple</td>\n",
       "      <td>xrp</td>\n",
       "      <td>XRP</td>\n",
       "      <td>2.060000</td>\n",
       "      <td>120142589065</td>\n",
       "    </tr>\n",
       "    <tr>\n",
       "      <th>4</th>\n",
       "      <td>binancecoin</td>\n",
       "      <td>bnb</td>\n",
       "      <td>BNB</td>\n",
       "      <td>590.030000</td>\n",
       "      <td>86064151362</td>\n",
       "    </tr>\n",
       "    <tr>\n",
       "      <th>5</th>\n",
       "      <td>solana</td>\n",
       "      <td>sol</td>\n",
       "      <td>Solana</td>\n",
       "      <td>124.660000</td>\n",
       "      <td>64307722695</td>\n",
       "    </tr>\n",
       "    <tr>\n",
       "      <th>6</th>\n",
       "      <td>usd-coin</td>\n",
       "      <td>usdc</td>\n",
       "      <td>USDC</td>\n",
       "      <td>0.999899</td>\n",
       "      <td>60074481105</td>\n",
       "    </tr>\n",
       "    <tr>\n",
       "      <th>7</th>\n",
       "      <td>dogecoin</td>\n",
       "      <td>doge</td>\n",
       "      <td>Dogecoin</td>\n",
       "      <td>0.162081</td>\n",
       "      <td>24122669080</td>\n",
       "    </tr>\n",
       "    <tr>\n",
       "      <th>8</th>\n",
       "      <td>tron</td>\n",
       "      <td>trx</td>\n",
       "      <td>TRON</td>\n",
       "      <td>0.249369</td>\n",
       "      <td>23666400796</td>\n",
       "    </tr>\n",
       "    <tr>\n",
       "      <th>9</th>\n",
       "      <td>cardano</td>\n",
       "      <td>ada</td>\n",
       "      <td>Cardano</td>\n",
       "      <td>0.638064</td>\n",
       "      <td>22989614673</td>\n",
       "    </tr>\n",
       "  </tbody>\n",
       "</table>\n",
       "</div>"
      ],
      "text/plain": [
       "            id symbol      name  current_price     market_cap\n",
       "0      bitcoin    btc   Bitcoin   83472.000000  1657108056266\n",
       "1     ethereum    eth  Ethereum    1594.660000   192473334452\n",
       "2       tether   usdt    Tether       0.999613   144285682969\n",
       "3       ripple    xrp       XRP       2.060000   120142589065\n",
       "4  binancecoin    bnb       BNB     590.030000    86064151362\n",
       "5       solana    sol    Solana     124.660000    64307722695\n",
       "6     usd-coin   usdc      USDC       0.999899    60074481105\n",
       "7     dogecoin   doge  Dogecoin       0.162081    24122669080\n",
       "8         tron    trx      TRON       0.249369    23666400796\n",
       "9      cardano    ada   Cardano       0.638064    22989614673"
      ]
     },
     "execution_count": 5,
     "metadata": {},
     "output_type": "execute_result"
    }
   ],
   "source": [
    "# Load data from SQLite database\n",
    "conn = sqlite3.connect(\"crypto_data.db\")\n",
    "df = pd.read_sql_query(\"SELECT * FROM crypto_prices\", conn)\n",
    "conn.close()\n",
    "\n",
    "# Work with the data (Example: Print it)\n",
    "(df)\n"
   ]
  },
  {
   "cell_type": "code",
   "execution_count": 6,
   "id": "fabb945d",
   "metadata": {},
   "outputs": [],
   "source": [
    "# Save the data to a CSV file\n",
    "df.to_csv(\"crypto_data.csv\", index=False)\n",
    "\n",
    "# Now you have a CSV file you can use in your portfolio.\n"
   ]
  },
  {
   "cell_type": "code",
   "execution_count": 7,
   "id": "d22d0fb8",
   "metadata": {},
   "outputs": [
    {
     "data": {
      "text/html": [
       "<div>\n",
       "<style scoped>\n",
       "    .dataframe tbody tr th:only-of-type {\n",
       "        vertical-align: middle;\n",
       "    }\n",
       "\n",
       "    .dataframe tbody tr th {\n",
       "        vertical-align: top;\n",
       "    }\n",
       "\n",
       "    .dataframe thead th {\n",
       "        text-align: right;\n",
       "    }\n",
       "</style>\n",
       "<table border=\"1\" class=\"dataframe\">\n",
       "  <thead>\n",
       "    <tr style=\"text-align: right;\">\n",
       "      <th></th>\n",
       "      <th>id</th>\n",
       "      <th>symbol</th>\n",
       "      <th>name</th>\n",
       "      <th>current_price</th>\n",
       "      <th>market_cap</th>\n",
       "    </tr>\n",
       "  </thead>\n",
       "  <tbody>\n",
       "    <tr>\n",
       "      <th>0</th>\n",
       "      <td>bitcoin</td>\n",
       "      <td>btc</td>\n",
       "      <td>Bitcoin</td>\n",
       "      <td>83472.000000</td>\n",
       "      <td>1657108056266</td>\n",
       "    </tr>\n",
       "    <tr>\n",
       "      <th>1</th>\n",
       "      <td>ethereum</td>\n",
       "      <td>eth</td>\n",
       "      <td>Ethereum</td>\n",
       "      <td>1594.660000</td>\n",
       "      <td>192473334452</td>\n",
       "    </tr>\n",
       "    <tr>\n",
       "      <th>2</th>\n",
       "      <td>tether</td>\n",
       "      <td>usdt</td>\n",
       "      <td>Tether</td>\n",
       "      <td>0.999613</td>\n",
       "      <td>144285682969</td>\n",
       "    </tr>\n",
       "    <tr>\n",
       "      <th>3</th>\n",
       "      <td>ripple</td>\n",
       "      <td>xrp</td>\n",
       "      <td>XRP</td>\n",
       "      <td>2.060000</td>\n",
       "      <td>120142589065</td>\n",
       "    </tr>\n",
       "    <tr>\n",
       "      <th>4</th>\n",
       "      <td>binancecoin</td>\n",
       "      <td>bnb</td>\n",
       "      <td>BNB</td>\n",
       "      <td>590.030000</td>\n",
       "      <td>86064151362</td>\n",
       "    </tr>\n",
       "  </tbody>\n",
       "</table>\n",
       "</div>"
      ],
      "text/plain": [
       "            id symbol      name  current_price     market_cap\n",
       "0      bitcoin    btc   Bitcoin   83472.000000  1657108056266\n",
       "1     ethereum    eth  Ethereum    1594.660000   192473334452\n",
       "2       tether   usdt    Tether       0.999613   144285682969\n",
       "3       ripple    xrp       XRP       2.060000   120142589065\n",
       "4  binancecoin    bnb       BNB     590.030000    86064151362"
      ]
     },
     "execution_count": 7,
     "metadata": {},
     "output_type": "execute_result"
    }
   ],
   "source": [
    "import pandas as pd\n",
    "import sqlite3\n",
    "\n",
    "# Option 1: Load from SQLite\n",
    "conn = sqlite3.connect(\"crypto_data.db\")\n",
    "df = pd.read_sql_query(\"SELECT * FROM crypto_prices\", conn)\n",
    "conn.close()\n",
    "\n",
    "# Option 2: Load from CSV\n",
    "# df = pd.read_csv(\"crypto_data.csv\")\n",
    "\n",
    "df.head()\n"
   ]
  },
  {
   "cell_type": "code",
   "execution_count": 8,
   "id": "d138cbcc",
   "metadata": {},
   "outputs": [
    {
     "name": "stdout",
     "output_type": "stream",
     "text": [
      "<class 'pandas.core.frame.DataFrame'>\n",
      "RangeIndex: 10 entries, 0 to 9\n",
      "Data columns (total 5 columns):\n",
      " #   Column         Non-Null Count  Dtype  \n",
      "---  ------         --------------  -----  \n",
      " 0   id             10 non-null     object \n",
      " 1   symbol         10 non-null     object \n",
      " 2   name           10 non-null     object \n",
      " 3   current_price  10 non-null     float64\n",
      " 4   market_cap     10 non-null     int64  \n",
      "dtypes: float64(1), int64(1), object(3)\n",
      "memory usage: 532.0+ bytes\n",
      "None\n",
      "       current_price    market_cap\n",
      "count      10.000000  1.000000e+01\n",
      "mean     8578.645903  2.395235e+11\n",
      "std     26319.721696  5.012665e+11\n",
      "min         0.162081  2.298961e+10\n",
      "25%         0.728451  3.311062e+10\n",
      "50%         1.529950  7.518594e+10\n",
      "75%       473.687500  1.382499e+11\n",
      "max     83472.000000  1.657108e+12\n",
      "id               0\n",
      "symbol           0\n",
      "name             0\n",
      "current_price    0\n",
      "market_cap       0\n",
      "dtype: int64\n"
     ]
    }
   ],
   "source": [
    "# Basic info\n",
    "print(df.info())\n",
    "print(df.describe())\n",
    "\n",
    "# Check for null values\n",
    "print(df.isnull().sum())\n"
   ]
  },
  {
   "cell_type": "code",
   "execution_count": 9,
   "id": "9ed4410f",
   "metadata": {},
   "outputs": [
    {
     "data": {
      "image/png": "[encoded data removed]",
      "text/plain": [
       "<Figure size 1000x600 with 1 Axes>"
      ]
     },
     "metadata": {},
     "output_type": "display_data"
    }
   ],
   "source": [
    "import seaborn as sns\n",
    "import matplotlib.pyplot as plt\n",
    "\n",
    "plt.figure(figsize=(10,6))\n",
    "sns.scatterplot(data=df, x='current_price', y='market_cap', hue='name')\n",
    "plt.title('Market Cap vs Current Price')\n",
    "plt.xlabel('Current Price (USD)')\n",
    "plt.ylabel('Market Cap (USD)')\n",
    "plt.xscale('log')\n",
    "plt.yscale('log')\n",
    "plt.grid(True)\n",
    "plt.show()\n"
   ]
  },
  {
   "cell_type": "code",
   "execution_count": 10,
   "id": "2dafd0bb",
   "metadata": {},
   "outputs": [
    {
     "data": {
      "image/png": "[encoded data removed]",
      "text/plain": [
       "<Figure size 800x600 with 2 Axes>"
      ]
     },
     "metadata": {},
     "output_type": "display_data"
    }
   ],
   "source": [
    "plt.figure(figsize=(8, 6))\n",
    "sns.heatmap(df[['current_price', 'market_cap']].corr(), annot=True, cmap='coolwarm')\n",
    "plt.title(\"Correlation Matrix\")\n",
    "plt.show()\n"
   ]
  },
  {
   "cell_type": "code",
   "execution_count": 12,
   "id": "ba53c7c1",
   "metadata": {},
   "outputs": [
    {
     "data": {
      "text/html": [
       "<div>\n",
       "<style scoped>\n",
       "    .dataframe tbody tr th:only-of-type {\n",
       "        vertical-align: middle;\n",
       "    }\n",
       "\n",
       "    .dataframe tbody tr th {\n",
       "        vertical-align: top;\n",
       "    }\n",
       "\n",
       "    .dataframe thead th {\n",
       "        text-align: right;\n",
       "    }\n",
       "</style>\n",
       "<table border=\"1\" class=\"dataframe\">\n",
       "  <thead>\n",
       "    <tr style=\"text-align: right;\">\n",
       "      <th></th>\n",
       "      <th>name</th>\n",
       "      <th>market_cap</th>\n",
       "    </tr>\n",
       "  </thead>\n",
       "  <tbody>\n",
       "    <tr>\n",
       "      <th>0</th>\n",
       "      <td>Bitcoin</td>\n",
       "      <td>1657108056266</td>\n",
       "    </tr>\n",
       "    <tr>\n",
       "      <th>1</th>\n",
       "      <td>Ethereum</td>\n",
       "      <td>192473334452</td>\n",
       "    </tr>\n",
       "    <tr>\n",
       "      <th>2</th>\n",
       "      <td>Tether</td>\n",
       "      <td>144285682969</td>\n",
       "    </tr>\n",
       "    <tr>\n",
       "      <th>3</th>\n",
       "      <td>XRP</td>\n",
       "      <td>120142589065</td>\n",
       "    </tr>\n",
       "    <tr>\n",
       "      <th>4</th>\n",
       "      <td>BNB</td>\n",
       "      <td>86064151362</td>\n",
       "    </tr>\n",
       "  </tbody>\n",
       "</table>\n",
       "</div>"
      ],
      "text/plain": [
       "       name     market_cap\n",
       "0   Bitcoin  1657108056266\n",
       "1  Ethereum   192473334452\n",
       "2    Tether   144285682969\n",
       "3       XRP   120142589065\n",
       "4       BNB    86064151362"
      ]
     },
     "execution_count": 12,
     "metadata": {},
     "output_type": "execute_result"
    }
   ],
   "source": [
    "top_marketcap = df.sort_values(by='market_cap', ascending=False).head(5)\n",
    "(top_marketcap[['name', 'market_cap']])\n"
   ]
  },
  {
   "cell_type": "code",
   "execution_count": 14,
   "id": "24a62c53",
   "metadata": {},
   "outputs": [
    {
     "data": {
      "text/html": [
       "<div>\n",
       "<style scoped>\n",
       "    .dataframe tbody tr th:only-of-type {\n",
       "        vertical-align: middle;\n",
       "    }\n",
       "\n",
       "    .dataframe tbody tr th {\n",
       "        vertical-align: top;\n",
       "    }\n",
       "\n",
       "    .dataframe thead th {\n",
       "        text-align: right;\n",
       "    }\n",
       "</style>\n",
       "<table border=\"1\" class=\"dataframe\">\n",
       "  <thead>\n",
       "    <tr style=\"text-align: right;\">\n",
       "      <th></th>\n",
       "      <th>name</th>\n",
       "      <th>current_price</th>\n",
       "      <th>market_cap</th>\n",
       "    </tr>\n",
       "  </thead>\n",
       "  <tbody>\n",
       "    <tr>\n",
       "      <th>2</th>\n",
       "      <td>Tether</td>\n",
       "      <td>0.999613</td>\n",
       "      <td>144285682969</td>\n",
       "    </tr>\n",
       "    <tr>\n",
       "      <th>3</th>\n",
       "      <td>XRP</td>\n",
       "      <td>2.060000</td>\n",
       "      <td>120142589065</td>\n",
       "    </tr>\n",
       "    <tr>\n",
       "      <th>6</th>\n",
       "      <td>USDC</td>\n",
       "      <td>0.999899</td>\n",
       "      <td>60074481105</td>\n",
       "    </tr>\n",
       "    <tr>\n",
       "      <th>7</th>\n",
       "      <td>Dogecoin</td>\n",
       "      <td>0.162081</td>\n",
       "      <td>24122669080</td>\n",
       "    </tr>\n",
       "    <tr>\n",
       "      <th>8</th>\n",
       "      <td>TRON</td>\n",
       "      <td>0.249369</td>\n",
       "      <td>23666400796</td>\n",
       "    </tr>\n",
       "    <tr>\n",
       "      <th>9</th>\n",
       "      <td>Cardano</td>\n",
       "      <td>0.638064</td>\n",
       "      <td>22989614673</td>\n",
       "    </tr>\n",
       "  </tbody>\n",
       "</table>\n",
       "</div>"
      ],
      "text/plain": [
       "       name  current_price    market_cap\n",
       "2    Tether       0.999613  144285682969\n",
       "3       XRP       2.060000  120142589065\n",
       "6      USDC       0.999899   60074481105\n",
       "7  Dogecoin       0.162081   24122669080\n",
       "8      TRON       0.249369   23666400796\n",
       "9   Cardano       0.638064   22989614673"
      ]
     },
     "execution_count": 14,
     "metadata": {},
     "output_type": "execute_result"
    }
   ],
   "source": [
    "cheap_but_popular = df[df['current_price'] < 10].sort_values(by='market_cap', ascending=False)\n",
    "(cheap_but_popular[['name', 'current_price', 'market_cap']])\n"
   ]
  },
  {
   "cell_type": "code",
   "execution_count": 16,
   "id": "ee6fc636",
   "metadata": {},
   "outputs": [
    {
     "name": "stdout",
     "output_type": "stream",
     "text": [
      "🏆 Highest Market Cap:\n",
      "       name     market_cap\n",
      "0  Bitcoin  1657108056266\n",
      "\n",
      "🐢 Lowest Market Cap:\n",
      "       name   market_cap\n",
      "9  Cardano  22989614673\n",
      "\n",
      "💵 Average Price: $ 8578.65\n",
      "📊 Median Price: $ 1.53\n"
     ]
    },
    {
     "data": {
      "text/plain": [
       "('\\n💡 Cheap but Valuable Coins:\\n',\n",
       "        name  current_price    market_cap\n",
       " 2    Tether       0.999613  144285682969\n",
       " 3       XRP       2.060000  120142589065\n",
       " 6      USDC       0.999899   60074481105\n",
       " 7  Dogecoin       0.162081   24122669080\n",
       " 8      TRON       0.249369   23666400796\n",
       " 9   Cardano       0.638064   22989614673)"
      ]
     },
     "execution_count": 16,
     "metadata": {},
     "output_type": "execute_result"
    }
   ],
   "source": [
    "# Highest market cap\n",
    "highest = df[df['market_cap'] == df['market_cap'].max()]\n",
    "print(\"🏆 Highest Market Cap:\\n\", highest[['name', 'market_cap']])\n",
    "\n",
    "# Lowest market cap\n",
    "lowest = df[df['market_cap'] == df['market_cap'].min()]\n",
    "print(\"\\n🐢 Lowest Market Cap:\\n\", lowest[['name', 'market_cap']])\n",
    "\n",
    "# Average and median price\n",
    "print(\"\\n💵 Average Price: $\", round(df['current_price'].mean(), 2))\n",
    "print(\"📊 Median Price: $\", round(df['current_price'].median(), 2))\n",
    "\n",
    "# Cheap but valuable coins (price < 10)\n",
    "cheap_valuable = df[df['current_price'] < 10].sort_values(by='market_cap', ascending=False)\n",
    "(\"\\n💡 Cheap but Valuable Coins:\\n\", cheap_valuable[['name', 'current_price', 'market_cap']])\n"
   ]
  },
  {
   "cell_type": "code",
   "execution_count": 17,
   "id": "afb16a09",
   "metadata": {},
   "outputs": [
    {
     "name": "stderr",
     "output_type": "stream",
     "text": [
      "C:\\Users\\Sikha\\AppData\\Local\\Temp\\ipykernel_9992\\4254274042.py:12: UserWarning: Glyph 128201 (\\N{CHART WITH DOWNWARDS TREND}) missing from current font.\n",
      "  plt.tight_layout()\n",
      "C:\\Users\\Sikha\\anaconda3\\Lib\\site-packages\\IPython\\core\\pylabtools.py:152: UserWarning: Glyph 128201 (\\N{CHART WITH DOWNWARDS TREND}) missing from current font.\n",
      "  fig.canvas.print_figure(bytes_io, **kw)\n"
     ]
    },
    {
     "data": {
      "image/png": "[encoded data removed]",
      "text/plain": [
       "<Figure size 1000x600 with 1 Axes>"
      ]
     },
     "metadata": {},
     "output_type": "display_data"
    }
   ],
   "source": [
    "import seaborn as sns\n",
    "import matplotlib.pyplot as plt\n",
    "\n",
    "plt.figure(figsize=(10,6))\n",
    "sns.scatterplot(data=df, x='current_price', y='market_cap', hue='name', s=100)\n",
    "plt.title('📉 Market Cap vs Current Price')\n",
    "plt.xlabel('Current Price (USD)')\n",
    "plt.ylabel('Market Cap (USD)')\n",
    "plt.xscale('log')  # Log scale helps spread the values\n",
    "plt.yscale('log')\n",
    "plt.grid(True)\n",
    "plt.tight_layout()\n",
    "plt.show()\n"
   ]
  },
  {
   "cell_type": "code",
   "execution_count": 18,
   "id": "40dd6b28",
   "metadata": {},
   "outputs": [
    {
     "name": "stderr",
     "output_type": "stream",
     "text": [
      "C:\\Users\\Sikha\\AppData\\Local\\Temp\\ipykernel_9992\\3659479354.py:9: UserWarning: Glyph 127942 (\\N{TROPHY}) missing from current font.\n",
      "  plt.tight_layout()\n",
      "C:\\Users\\Sikha\\anaconda3\\Lib\\site-packages\\IPython\\core\\pylabtools.py:152: UserWarning: Glyph 127942 (\\N{TROPHY}) missing from current font.\n",
      "  fig.canvas.print_figure(bytes_io, **kw)\n"
     ]
    },
    {
     "data": {
      "image/png": "[encoded data removed]",
      "text/plain": [
       "<Figure size 800x600 with 1 Axes>"
      ]
     },
     "metadata": {},
     "output_type": "display_data"
    }
   ],
   "source": [
    "top5 = df.sort_values(by='market_cap', ascending=False).head(5)\n",
    "\n",
    "plt.figure(figsize=(8,6))\n",
    "sns.barplot(data=top5, x='name', y='market_cap', palette='viridis')\n",
    "plt.title('🏆 Top 5 Cryptocurrencies by Market Cap')\n",
    "plt.xlabel('Cryptocurrency')\n",
    "plt.ylabel('Market Cap (USD)')\n",
    "plt.xticks(rotation=45)\n",
    "plt.tight_layout()\n",
    "plt.show()\n"
   ]
  },
  {
   "cell_type": "code",
   "execution_count": 19,
   "id": "da7ad7b3",
   "metadata": {},
   "outputs": [],
   "source": [
    "# 📈 Top Gainer (by current price)\n",
    "top_price = df[df['current_price'] == df['current_price'].max()]\n",
    "\n",
    "# 💰 Highest Market Cap\n",
    "top_marketcap = df[df['market_cap'] == df['market_cap'].max()]\n",
    "\n",
    "# 🪙 Average Price\n",
    "avg_price = round(df['current_price'].mean(), 2)\n",
    "\n",
    "# 🧾 Total Market Cap\n",
    "total_marketcap = df['market_cap'].sum()\n",
    "\n",
    "# 💵 Coins Under $1\n",
    "coins_under_1 = df[df['current_price'] < 1].shape[0]\n",
    "\n",
    "# ⚖️ Price-to-MarketCap Ratio\n",
    "df['price_to_marketcap'] = df['current_price'] / df['market_cap']\n",
    "top_ratio = df.sort_values(by='price_to_marketcap', ascending=False).head(1)\n"
   ]
  },
  {
   "cell_type": "code",
   "execution_count": 20,
   "id": "566c6a6a",
   "metadata": {
    "scrolled": true
   },
   "outputs": [
    {
     "name": "stdout",
     "output_type": "stream",
     "text": [
      "💡 Key Performance Indicators\n",
      "\n",
      "📈 Top Gainer: Bitcoin at $83,472.00\n",
      "💰 Highest Market Cap: Bitcoin at $1,657,108,056,266\n",
      "🪙 Average Price of Top 10: $8578.65\n",
      "🧾 Total Market Cap: $2,395,234,702,463\n",
      "💵 Coins Under $1: 5\n",
      "⚖️ Top Price-to-MarketCap Ratio: Bitcoin (0.0000000504)\n"
     ]
    }
   ],
   "source": [
    "print(\"💡 Key Performance Indicators\\n\")\n",
    "print(f\"📈 Top Gainer: {top_price['name'].values[0]} at ${top_price['current_price'].values[0]:,.2f}\")\n",
    "print(f\"💰 Highest Market Cap: {top_marketcap['name'].values[0]} at ${top_marketcap['market_cap'].values[0]:,}\")\n",
    "print(f\"🪙 Average Price of Top 10: ${avg_price}\")\n",
    "print(f\"🧾 Total Market Cap: ${total_marketcap:,.0f}\")\n",
    "print(f\"💵 Coins Under $1: {coins_under_1}\")\n",
    "print(f\"⚖️ Top Price-to-MarketCap Ratio: {top_ratio['name'].values[0]} ({top_ratio['price_to_marketcap'].values[0]:.10f})\")\n"
   ]
  },
  {
   "cell_type": "code",
   "execution_count": 21,
   "id": "5215a0b1",
   "metadata": {},
   "outputs": [],
   "source": [
    "kpis = {\n",
    "    'KPI': [\n",
    "        'Top Gainer',\n",
    "        'Highest Market Cap',\n",
    "        'Average Price of Top 10',\n",
    "        'Total Market Cap',\n",
    "        'Coins Under $1',\n",
    "        'Top Price-to-MarketCap Ratio'\n",
    "    ],\n",
    "    'Value': [\n",
    "        f\"{top_price['name'].values[0]} (${top_price['current_price'].values[0]:,.2f})\",\n",
    "        f\"{top_marketcap['name'].values[0]} (${top_marketcap['market_cap'].values[0]:,})\",\n",
    "        f\"${avg_price}\",\n",
    "        f\"${total_marketcap:,.0f}\",\n",
    "        coins_under_1,\n",
    "        f\"{top_ratio['name'].values[0]} ({top_ratio['price_to_marketcap'].values[0]:.10f})\"\n",
    "    ]\n",
    "}\n",
    "\n",
    "kpi_df = pd.DataFrame(kpis)\n"
   ]
  },
  {
   "cell_type": "code",
   "execution_count": 22,
   "id": "da3a411e",
   "metadata": {},
   "outputs": [],
   "source": [
    "# Save as CSV\n",
    "kpi_df.to_csv(\"crypto_kpis.csv\", index=False)\n",
    "\n",
    "# Save as Markdown\n",
    "with open(\"crypto_kpis.md\", \"w\") as f:\n",
    "    f.write(kpi_df.to_markdown(index=False))\n"
   ]
  },
  {
   "cell_type": "code",
   "execution_count": 23,
   "id": "881bdeb9",
   "metadata": {},
   "outputs": [
    {
     "name": "stderr",
     "output_type": "stream",
     "text": [
      "2025-04-12 14:20:29.609 \n",
      "  \u001b[33m\u001b[1mWarning:\u001b[0m to view this Streamlit app on a browser, run it with the following\n",
      "  command:\n",
      "\n",
      "    streamlit run C:\\Users\\Sikha\\anaconda3\\Lib\\site-packages\\ipykernel_launcher.py [ARGUMENTS]\n"
     ]
    },
    {
     "data": {
      "text/plain": [
       "False"
      ]
     },
     "execution_count": 23,
     "metadata": {},
     "output_type": "execute_result"
    },
    {
     "data": {
      "image/png": "[encoded data removed]",
      "text/plain": [
       "<Figure size 1000x500 with 1 Axes>"
      ]
     },
     "metadata": {},
     "output_type": "display_data"
    }
   ],
   "source": [
    "# crypto_dashboard.py\n",
    "\n",
    "import streamlit as st\n",
    "import pandas as pd\n",
    "import matplotlib.pyplot as plt\n",
    "\n",
    "# Load your saved data\n",
    "df = pd.read_csv(\"crypto_kpis.csv\")\n",
    "\n",
    "st.set_page_config(page_title=\"Crypto KPIs Dashboard\", layout=\"wide\")\n",
    "\n",
    "st.title(\"🚀 Crypto KPIs Dashboard\")\n",
    "st.markdown(\"Top 10 Cryptocurrencies by Market Cap - CoinGecko API\")\n",
    "\n",
    "# 📋 Display KPIs\n",
    "st.subheader(\"📈 Key Performance Indicators\")\n",
    "st.dataframe(df)\n",
    "\n",
    "# 📊 Visualization: Bar Chart for Market Cap (top 10)\n",
    "st.subheader(\"💰 Market Cap of Top 10 Cryptocurrencies\")\n",
    "\n",
    "# Reload original dataset with full data (used in KPI calc)\n",
    "raw = pd.read_sql(\"SELECT * FROM crypto_prices\", sqlite3.connect(\"crypto_data.db\"))\n",
    "fig, ax = plt.subplots(figsize=(10, 5))\n",
    "ax.bar(raw['name'], raw['market_cap'], color='skyblue')\n",
    "plt.xticks(rotation=45)\n",
    "plt.ylabel(\"Market Cap (USD)\")\n",
    "plt.title(\"Top 10 Cryptos by Market Cap\")\n",
    "st.pyplot(fig)\n",
    "\n",
    "# 📥 Download CSV\n",
    "st.download_button(\"⬇️ Download KPI CSV\", data=df.to_csv(index=False), file_name=\"crypto_kpis.csv\", mime=\"text/csv\")\n"
   ]
  },
  {
   "cell_type": "code",
   "execution_count": 24,
   "id": "ebbd659e",
   "metadata": {},
   "outputs": [
    {
     "data": {
      "text/plain": [
       "DeltaGenerator()"
      ]
     },
     "execution_count": 24,
     "metadata": {},
     "output_type": "execute_result"
    }
   ],
   "source": [
    "# Metrics cards\n",
    "st.subheader(\"💡 Quick Metrics\")\n",
    "\n",
    "col1, col2, col3 = st.columns(3)\n",
    "col1.metric(\"Top Gainer\", df.loc[0, \"Value\"])\n",
    "col2.metric(\"Top Market Cap\", df.loc[1, \"Value\"])\n",
    "col3.metric(\"Avg Price (Top 10)\", df.loc[2, \"Value\"])\n"
   ]
  },
  {
   "cell_type": "code",
   "execution_count": 25,
   "id": "f7380e46",
   "metadata": {},
   "outputs": [
    {
     "data": {
      "text/plain": [
       "DeltaGenerator()"
      ]
     },
     "execution_count": 25,
     "metadata": {},
     "output_type": "execute_result"
    }
   ],
   "source": [
    "st.markdown(\"### 🎯 Total Market Cap: **\" + df.loc[3, 'Value'] + \"**\")\n"
   ]
  },
  {
   "cell_type": "code",
   "execution_count": 26,
   "id": "282cb76f",
   "metadata": {},
   "outputs": [
    {
     "data": {
      "text/plain": [
       "DeltaGenerator()"
      ]
     },
     "execution_count": 26,
     "metadata": {},
     "output_type": "execute_result"
    }
   ],
   "source": [
    "st.subheader(\"📌 Price vs Market Cap\")\n",
    "\n",
    "fig2, ax2 = plt.subplots()\n",
    "ax2.scatter(raw['current_price'], raw['market_cap'], color='green')\n",
    "ax2.set_xlabel('Price (USD)')\n",
    "ax2.set_ylabel('Market Cap')\n",
    "ax2.set_title(\"Price vs Market Cap\")\n",
    "st.pyplot(fig2)\n"
   ]
  },
  {
   "cell_type": "code",
   "execution_count": 27,
   "id": "f1cebe63",
   "metadata": {},
   "outputs": [
    {
     "data": {
      "text/plain": [
       "DeltaGenerator()"
      ]
     },
     "execution_count": 27,
     "metadata": {},
     "output_type": "execute_result"
    }
   ],
   "source": [
    "st.subheader(\"💸 Coins Under $1\")\n",
    "\n",
    "labels = ['Under $1', 'Over $1']\n",
    "sizes = [raw[raw['current_price'] < 1].shape[0], raw[raw['current_price'] >= 1].shape[0]]\n",
    "fig3, ax3 = plt.subplots()\n",
    "ax3.pie(sizes, labels=labels, autopct='%1.1f%%', startangle=140, colors=['gold', 'lightblue'])\n",
    "ax3.axis('equal')\n",
    "st.pyplot(fig3)\n"
   ]
  },
  {
   "cell_type": "code",
   "execution_count": null,
   "id": "78c61465",
   "metadata": {},
   "outputs": [],
   "source": []
  }
 ],
 "metadata": {
  "kernelspec": {
   "display_name": "Python 3 (ipykernel)",
   "language": "python",
   "name": "python3"
  },
  "language_info": {
   "codemirror_mode": {
    "name": "ipython",
    "version": 3
   },
   "file_extension": ".py",
   "mimetype": "text/x-python",
   "name": "python",
   "nbconvert_exporter": "python",
   "pygments_lexer": "ipython3",
   "version": "3.11.5"
  }
 },
 "nbformat": 4,
 "nbformat_minor": 5
}
